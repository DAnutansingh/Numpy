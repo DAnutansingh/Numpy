{
 "cells": [
  {
   "cell_type": "code",
   "execution_count": 2,
   "id": "d58d7e5e-8efc-4ed4-ab52-e80608e8997a",
   "metadata": {},
   "outputs": [],
   "source": [
    "import numpy as np"
   ]
  },
  {
   "cell_type": "code",
   "execution_count": 6,
   "id": "eefb3e10-8af9-4c61-a67b-c7d65b885077",
   "metadata": {},
   "outputs": [
    {
     "name": "stdout",
     "output_type": "stream",
     "text": [
      "[[  2.   4.   6.   8.  10.]\n",
      " [ 12.  14. 161.  18.  20.]\n",
      " [ 22.  24.  26.  28.  30.]\n",
      " [ 32.  34.  36.  38.  40.]\n",
      " [ 42.  44.  46.  48.  50.]]\n",
      "<class 'numpy.ndarray'>\n"
     ]
    },
    {
     "data": {
      "text/plain": [
       "dtype('float64')"
      ]
     },
     "execution_count": 6,
     "metadata": {},
     "output_type": "execute_result"
    }
   ],
   "source": [
    "data=np.loadtxt('even_numbers.txt')\n",
    "print(data)\n",
    "print(type(data))\n",
    "data.dtype"
   ]
  },
  {
   "cell_type": "code",
   "execution_count": 9,
   "id": "283f75d7-f7ed-4520-aecc-770a681b2929",
   "metadata": {},
   "outputs": [
    {
     "name": "stdout",
     "output_type": "stream",
     "text": [
      "[[14 18]\n",
      " [24 28]\n",
      " [34 38]\n",
      " [44 48]]\n"
     ]
    }
   ],
   "source": [
    "data=np.loadtxt('even_numbers.txt',dtype=int,skiprows=1,usecols=(1,3))\n",
    "print(data)"
   ]
  },
  {
   "cell_type": "code",
   "execution_count": 14,
   "id": "f114a884-3287-47d8-9870-3efd4b674bcb",
   "metadata": {},
   "outputs": [
    {
     "name": "stdout",
     "output_type": "stream",
     "text": [
      "['2' '12' '22' '32' '42']\n"
     ]
    }
   ],
   "source": [
    "data=np.loadtxt('even_numbers.txt',dtype=np.str_,usecols=(0))\n",
    "print(data)"
   ]
  },
  {
   "cell_type": "code",
   "execution_count": 21,
   "id": "95f8e00b-11f1-4ee1-8ee1-5ffbc9ce32d3",
   "metadata": {},
   "outputs": [
    {
     "name": "stdout",
     "output_type": "stream",
     "text": [
      "(214, 11)\n",
      "float64\n",
      "[[ 1.52101 13.64     4.49    ...  0.       0.       1.     ]\n",
      " [ 1.51761 13.89     3.6     ...  0.       0.       1.     ]\n",
      " [ 1.51618 13.53     3.55    ...  0.       0.       1.     ]\n",
      " ...\n",
      " [ 1.52065 14.36     0.      ...  1.64     0.       7.     ]\n",
      " [ 1.51651 14.38     0.      ...  1.57     0.       7.     ]\n",
      " [ 1.51711 14.23     0.      ...  1.67     0.       7.     ]]\n"
     ]
    }
   ],
   "source": [
    "data=np.loadtxt('glass.csv',delimiter=',')\n",
    "print(data.shape)\n",
    "print(data.dtype)\n",
    "print(data[:,1:])"
   ]
  },
  {
   "cell_type": "code",
   "execution_count": 24,
   "id": "2d73698f-c884-44ce-b376-b95dd711a49f",
   "metadata": {},
   "outputs": [
    {
     "name": "stderr",
     "output_type": "stream",
     "text": [
      "C:\\Users\\devis\\AppData\\Local\\Temp\\ipykernel_1804\\963532099.py:1: ConversionWarning: Some errors were detected !\n",
      "    Line #5 (got 4 columns instead of 5)\n",
      "  data=np.genfromtxt('odd_numbers.txt',invalid_raise=False)\n"
     ]
    }
   ],
   "source": [
    "data=np.genfromtxt('odd_numbers.txt',invalid_raise=False)"
   ]
  },
  {
   "cell_type": "code",
   "execution_count": 26,
   "id": "ca83ddb7-dabf-48ea-ab76-fc82176d4464",
   "metadata": {},
   "outputs": [
    {
     "name": "stdout",
     "output_type": "stream",
     "text": [
      "[[ 1.  3.  5.  7.  9.]\n",
      " [11. 13. 15. 17. 19.]\n",
      " [21. 23. 25. 27. 29.]\n",
      " [31. 33. 35. 37. 39.]]\n"
     ]
    }
   ],
   "source": [
    "print(data)"
   ]
  },
  {
   "cell_type": "code",
   "execution_count": 28,
   "id": "fc50291c-3bd9-4d20-8735-7be54aad1a64",
   "metadata": {},
   "outputs": [
    {
     "name": "stdout",
     "output_type": "stream",
     "text": [
      "[[ 1.  3.  5.  7.  9.]\n",
      " [11. 13. 15. 17. 19.]\n",
      " [21. 23. 25. 27. 29.]\n",
      " [31. 33. 35. 37. 39.]\n",
      " [43. 45. 47. 49. nan]]\n"
     ]
    }
   ],
   "source": [
    "data=np.genfromtxt('odd_numbers.csv',delimiter=',')\n",
    "print(data)"
   ]
  },
  {
   "cell_type": "code",
   "execution_count": 30,
   "id": "1d76266a-b322-4103-bf8e-9886441b1580",
   "metadata": {},
   "outputs": [
    {
     "name": "stdout",
     "output_type": "stream",
     "text": [
      "[[ 1.  3.  5.  7.  9.]\n",
      " [11. 13. 15. 17. 19.]\n",
      " [21. 23. 25. 27. 29.]\n",
      " [31. 33. 35. 37. 39.]\n",
      " [43. 45. 47. 49.  0.]]\n"
     ]
    }
   ],
   "source": [
    "data=np.genfromtxt('odd_numbers.csv',delimiter=',',filling_values=0)\n",
    "print(data)"
   ]
  },
  {
   "cell_type": "code",
   "execution_count": 33,
   "id": "1e9f3460-035c-4d36-b925-6cba7301de45",
   "metadata": {},
   "outputs": [
    {
     "name": "stdout",
     "output_type": "stream",
     "text": [
      "[[ 1.  3.  5.  7.  9.]\n",
      " [11. 13. 15. 17. 19.]\n",
      " [21. 23. 25. 27. 29.]\n",
      " [31. 33. 35. 37. 39.]\n",
      " [43. 45. 47. 49.  0.]]\n"
     ]
    }
   ],
   "source": [
    "data=np.genfromtxt('odd_numbers_2.csv',delimiter=',',missing_values='?',filling_values=0)\n",
    "print(data)"
   ]
  },
  {
   "cell_type": "code",
   "execution_count": 35,
   "id": "a2e6f604-5020-4a73-afd1-f1306d7f7a10",
   "metadata": {},
   "outputs": [
    {
     "name": "stdout",
     "output_type": "stream",
     "text": [
      "[['E1' 'M' '3' ... 'SHORT' 'S' 'WOOD']\n",
      " ['E2' 'A' '25' ... 'SHORT' 'S' 'WOOD']\n",
      " ['E3' 'A' '39' ... 'unknown' 'S' 'WOOD']\n",
      " ...\n",
      " ['E90' 'M' '7' ... 'LONG' 'F' 'ARCH']\n",
      " ['E100' 'O' '43' ... 'unknown' 'F' 'unknown']\n",
      " ['E109' 'A' '28' ... 'unknown' 'F' 'unknown']]\n"
     ]
    }
   ],
   "source": [
    "data=np.genfromtxt('highway.csv',delimiter=',',dtype=np.str_)\n",
    "data[data=='?']='unknown'\n",
    "print(data)"
   ]
  },
  {
   "cell_type": "code",
   "execution_count": 38,
   "id": "c1066548-b781-4476-b405-e27d55ef4eff",
   "metadata": {},
   "outputs": [
    {
     "name": "stdout",
     "output_type": "stream",
     "text": [
      "['M' 'A' 'A' 'A' 'M' 'A' 'A' 'M' 'A' 'A' 'A' 'M' 'A' 'A' 'A' 'M' 'A' 'A'\n",
      " 'A' 'M' 'M' 'A' 'O' 'M' 'A' 'M' 'A' 'A' 'M' 'A' 'M' 'O' 'M' 'O' 'A' 'M'\n",
      " 'M' 'A' 'A' 'M' 'M' 'M' 'O' 'M' 'A' 'M' 'M' 'A' 'A' 'M' 'A' 'M' 'A' 'M'\n",
      " 'M' 'M' 'A' 'M' 'Y' 'M' 'A' 'O' 'O' 'A' 'M' 'O' 'A' 'A' 'A' 'A' 'A' 'A'\n",
      " 'A' 'A' 'O' 'A' 'M' 'M' 'A' 'M' 'A' 'M' 'O' 'O' 'M' 'M' 'A' 'A' 'A' 'A'\n",
      " 'O' 'Y' 'Y' 'M' 'M' 'M' 'M' 'A' 'O' 'O' 'M' 'A' 'M' 'A' 'O' 'M' 'O' 'A']\n"
     ]
    }
   ],
   "source": [
    "dat=data[:,1]\n",
    "print(dat)"
   ]
  },
  {
   "cell_type": "code",
   "execution_count": 40,
   "id": "2b927dd3-1661-449b-9232-1952fee743d1",
   "metadata": {},
   "outputs": [
    {
     "name": "stdout",
     "output_type": "stream",
     "text": [
      "41\n"
     ]
    }
   ],
   "source": [
    "M=0\n",
    "for i in dat:\n",
    "    if(i=='M'):\n",
    "        M+=1\n",
    "print(M)    "
   ]
  }
 ],
 "metadata": {
  "kernelspec": {
   "display_name": "Python 3 (ipykernel)",
   "language": "python",
   "name": "python3"
  },
  "language_info": {
   "codemirror_mode": {
    "name": "ipython",
    "version": 3
   },
   "file_extension": ".py",
   "mimetype": "text/x-python",
   "name": "python",
   "nbconvert_exporter": "python",
   "pygments_lexer": "ipython3",
   "version": "3.12.3"
  }
 },
 "nbformat": 4,
 "nbformat_minor": 5
}
