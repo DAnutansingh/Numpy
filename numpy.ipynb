{
 "cells": [
  {
   "cell_type": "code",
   "execution_count": 2,
   "id": "0014f1c7-c1ee-4ca5-b896-9a1c838b6bf2",
   "metadata": {},
   "outputs": [
    {
     "name": "stdout",
     "output_type": "stream",
     "text": [
      "[20 30 40]\n",
      "[60 70 80]\n",
      "[ 80 100 120]\n",
      "[1200 2100 3200]\n"
     ]
    }
   ],
   "source": [
    "import numpy as np\n",
    "a=np.array([20,30,40])\n",
    "b=np.array([60,70,80])\n",
    "print(a)\n",
    "print(b)\n",
    "print(a+b)\n",
    "print(a*b)"
   ]
  },
  {
   "cell_type": "code",
   "execution_count": 3,
   "id": "84154722-cede-44ed-a155-e43fd0cfb313",
   "metadata": {},
   "outputs": [
    {
     "name": "stdout",
     "output_type": "stream",
     "text": [
      "[[10 20 30 40]\n",
      " [50 60 70 80]\n",
      " [20 40 60 80]]\n",
      "<class 'numpy.ndarray'>\n"
     ]
    }
   ],
   "source": [
    "import numpy as np\n",
    "arr=np.array([[10,20,30,40],[50,60,70,80],[20,40,60,80]])\n",
    "print(arr)\n",
    "print(type(arr))"
   ]
  },
  {
   "cell_type": "code",
   "execution_count": 4,
   "id": "46121a66-706f-4f7a-a278-0abf22164153",
   "metadata": {},
   "outputs": [
    {
     "name": "stdout",
     "output_type": "stream",
     "text": [
      "[10 20 30]\n",
      "[10 20 30]\n"
     ]
    }
   ],
   "source": [
    "#slicing\n",
    "import numpy as np\n",
    "arr=np.array([10,20,30,40])\n",
    "print(arr[0:3])\n",
    "print(arr[:3])"
   ]
  },
  {
   "cell_type": "code",
   "execution_count": 5,
   "id": "9cd0ec7d-9a8c-4af7-b893-56a68af3db45",
   "metadata": {},
   "outputs": [
    {
     "name": "stdout",
     "output_type": "stream",
     "text": [
      "[20 30]\n",
      "60\n"
     ]
    }
   ],
   "source": [
    "#indexing in array\n",
    "import numpy as np\n",
    "arr=np.array([[10,20,30,40],[50,60,70,80],[20,40,60,80]])\n",
    "print(arr[0,1:3])\n",
    "print(arr[2,2])"
   ]
  },
  {
   "cell_type": "code",
   "execution_count": 6,
   "id": "40ddc3c5-ec6c-416c-8c2e-665203afe93f",
   "metadata": {},
   "outputs": [
    {
     "name": "stdout",
     "output_type": "stream",
     "text": [
      "(3, 4)\n",
      "12\n",
      "2\n",
      "int32\n"
     ]
    }
   ],
   "source": [
    "#attributes of array in numpy\n",
    "import numpy as np\n",
    "arr=np.array([[10,20,30,40],[50,60,70,80],[20,40,60,80]])\n",
    "print(np.shape(arr))\n",
    "print(np.size(arr))\n",
    "print(np.ndim(arr))\n",
    "print(arr.dtype)"
   ]
  },
  {
   "cell_type": "code",
   "execution_count": 7,
   "id": "2974e4fa-8b39-47a8-aae1-b0008a586a77",
   "metadata": {},
   "outputs": [
    {
     "name": "stdout",
     "output_type": "stream",
     "text": [
      "[[30 40 40]\n",
      " [40 30 10]]\n",
      "(2, 3)\n",
      "2\n",
      "6\n",
      "<class 'numpy.ndarray'>\n",
      "int32\n",
      "[[30. 40. 40.]\n",
      " [40. 30. 10.]]\n"
     ]
    }
   ],
   "source": [
    "#inspecting an array\n",
    "import numpy as np\n",
    "a=[[30,40,40],[40,30,10]]\n",
    "arr=np.array(a)\n",
    "print(arr)\n",
    "print(np.shape(arr))\n",
    "print(len(arr))\n",
    "print(np.size(arr))\n",
    "print(type(arr))\n",
    "print(arr.dtype)\n",
    "print(arr.astype(float))"
   ]
  },
  {
   "cell_type": "code",
   "execution_count": 8,
   "id": "a71c522f-0dbe-43cf-a9bb-fcf02d0bcec2",
   "metadata": {},
   "outputs": [
    {
     "name": "stdout",
     "output_type": "stream",
     "text": [
      "[50 70 60]\n",
      "[50 70 60]\n",
      "[10 10 40]\n",
      "[10 10 40]\n"
     ]
    }
   ],
   "source": [
    "#mathematical operations on arrays\n",
    "import numpy as np\n",
    "arr1=np.array([30,40,50])\n",
    "arr2=np.array([20,30,10])\n",
    "print(arr1+arr2)\n",
    "print(np.add(arr1,arr2))\n",
    "print(arr1-arr2)\n",
    "print(np.subtract(arr1,arr2))\n"
   ]
  },
  {
   "cell_type": "code",
   "execution_count": 9,
   "id": "7060dd1c-f4e5-4651-895e-810f9fe43ae3",
   "metadata": {},
   "outputs": [
    {
     "name": "stdout",
     "output_type": "stream",
     "text": [
      "[[30 40]\n",
      " [50 10]\n",
      " [20 30]\n",
      " [10  3]]\n",
      "[[30 40 20 30]\n",
      " [50 10 10  3]]\n"
     ]
    }
   ],
   "source": [
    "#concatenate\n",
    "import numpy as np\n",
    "arr1=np.array([[30,40],[50,10]])\n",
    "arr2=np.array([[20,30],[10,3]])\n",
    "print(np.concatenate([arr1,arr2],axis=0))#horizontal axis\n",
    "print(np.concatenate([arr1,arr2],axis=1))#vertical axis"
   ]
  },
  {
   "cell_type": "code",
   "execution_count": 10,
   "id": "44573a54-04fd-4d5e-a316-f6da959c4230",
   "metadata": {},
   "outputs": [
    {
     "name": "stdout",
     "output_type": "stream",
     "text": [
      "[[30 40 20 30]\n",
      " [50 10 10  3]]\n",
      "[[30 40]\n",
      " [50 10]\n",
      " [20 30]\n",
      " [10  3]]\n"
     ]
    }
   ],
   "source": [
    "print(np.hstack([arr1,arr2]))#horizontal concatenation\n",
    "print(np.vstack([arr1,arr2]))#vertical concatenation"
   ]
  },
  {
   "cell_type": "code",
   "execution_count": 11,
   "id": "34432621-d5a0-4983-8bb4-8cbbcd8e43bb",
   "metadata": {},
   "outputs": [
    {
     "name": "stdout",
     "output_type": "stream",
     "text": [
      "[array([20, 40]), array([30]), array([40]), array([10]), array([20])]\n",
      "[30]\n"
     ]
    }
   ],
   "source": [
    "#splitting array\n",
    "a=np.array([20,40,30,40,10,20])\n",
    "b=np.array_split(a,5)\n",
    "print(b)\n",
    "print(b[1])"
   ]
  },
  {
   "cell_type": "code",
   "execution_count": 12,
   "id": "095ed8c5-f155-4037-ace5-23361cda03f5",
   "metadata": {},
   "outputs": [
    {
     "name": "stdout",
     "output_type": "stream",
     "text": [
      "[20 40 60 80 90]\n"
     ]
    }
   ],
   "source": [
    "#append in array\n",
    "import numpy as np\n",
    "a=np.array([20,40,60,80])\n",
    "print(np.append(a,90))"
   ]
  },
  {
   "cell_type": "code",
   "execution_count": 13,
   "id": "29b9925e-0c6e-4584-b793-83770036d759",
   "metadata": {},
   "outputs": [
    {
     "name": "stdout",
     "output_type": "stream",
     "text": [
      "[ 20  40  60  80  90 100]\n"
     ]
    }
   ],
   "source": [
    "a=np.array([[20,40],[60,80]])\n",
    "print(np.append(a,[90,100]))"
   ]
  },
  {
   "cell_type": "code",
   "execution_count": 14,
   "id": "4a883db7-10bc-4949-bfb1-8cc03b1c3799",
   "metadata": {},
   "outputs": [
    {
     "name": "stdout",
     "output_type": "stream",
     "text": [
      "[20 40 60 80  1]\n"
     ]
    }
   ],
   "source": [
    "#insert in array\n",
    "a=np.array([20,40,60,80])\n",
    "print(np.append(a,1,50))\n"
   ]
  },
  {
   "cell_type": "code",
   "execution_count": 15,
   "id": "2d68c7ea-e5ce-4113-a978-1ac059e39a4c",
   "metadata": {},
   "outputs": [
    {
     "name": "stdout",
     "output_type": "stream",
     "text": [
      "[20 50 60 40 60 80]\n"
     ]
    }
   ],
   "source": [
    "a=np.array([[20,40],[60,80]])\n",
    "print(np.insert(a,1,[50,60]))\n"
   ]
  },
  {
   "cell_type": "code",
   "execution_count": 16,
   "id": "5676653a-228e-491f-b05d-0ca7c3e5d969",
   "metadata": {},
   "outputs": [
    {
     "name": "stdout",
     "output_type": "stream",
     "text": [
      "[20 60 80]\n"
     ]
    }
   ],
   "source": [
    "#delete element in array\n",
    "print(np.delete(a,1))"
   ]
  },
  {
   "cell_type": "code",
   "execution_count": 17,
   "id": "c4d4059a-c299-4c5d-bb4d-902e8a42b569",
   "metadata": {},
   "outputs": [
    {
     "name": "stdout",
     "output_type": "stream",
     "text": [
      "[[20 40]]\n"
     ]
    }
   ],
   "source": [
    "a=np.array([[20,40],[60,80]])\n",
    "print(np.delete(a,1,axis=0))"
   ]
  },
  {
   "cell_type": "code",
   "execution_count": 19,
   "id": "7c8c5d5e-6943-4e51-b89d-b3addf81f1a0",
   "metadata": {},
   "outputs": [
    {
     "name": "stdout",
     "output_type": "stream",
     "text": [
      "[[ 4  7  8  9 12]\n",
      " [ 2  3  4  8 10]]\n"
     ]
    }
   ],
   "source": [
    "#sort\n",
    "ar=np.array([[7,8,4,12,9],[4,8,10,3,2]])\n",
    "print(np.sort(ar))"
   ]
  },
  {
   "cell_type": "code",
   "execution_count": 21,
   "id": "2d7281af-2cc3-46e5-ae4d-c4c6182f1d9e",
   "metadata": {},
   "outputs": [
    {
     "name": "stdout",
     "output_type": "stream",
     "text": [
      "(array([1, 4], dtype=int64),)\n"
     ]
    }
   ],
   "source": [
    "#search\n",
    "ar=np.array([3,4,1,7,8])\n",
    "s=np.where(ar%2==0)\n",
    "print(s)"
   ]
  },
  {
   "cell_type": "code",
   "execution_count": 23,
   "id": "fc3d533d-6477-4abe-8ebb-d8d85f766b52",
   "metadata": {},
   "outputs": [
    {
     "name": "stdout",
     "output_type": "stream",
     "text": [
      "1\n"
     ]
    }
   ],
   "source": [
    "#searchsorted\n",
    "ar=np.array([1,2,3,4,5])\n",
    "ss=np.searchsorted(ar,2)\n",
    "print(ss)"
   ]
  },
  {
   "cell_type": "code",
   "execution_count": 26,
   "id": "db6df9db-015e-416d-80cf-b09c6e02aedb",
   "metadata": {},
   "outputs": [
    {
     "name": "stdout",
     "output_type": "stream",
     "text": [
      "[20 40]\n"
     ]
    }
   ],
   "source": [
    "#filter\n",
    "ar=np.array([20,30,40,50])\n",
    "fa=[True,False,True,False]\n",
    "new=ar[fa]\n",
    "print(new)\n"
   ]
  },
  {
   "cell_type": "code",
   "execution_count": 28,
   "id": "1bcbea9f-eb94-4bcb-9281-0741efafaac1",
   "metadata": {},
   "outputs": [
    {
     "name": "stdout",
     "output_type": "stream",
     "text": [
      "[40 50]\n"
     ]
    }
   ],
   "source": [
    "ar=np.array([20,30,40,50])\n",
    "fa=ar>35\n",
    "new=ar[fa]\n",
    "print(new)"
   ]
  },
  {
   "cell_type": "code",
   "execution_count": 30,
   "id": "57478100-e805-44cd-8349-761e885acb8b",
   "metadata": {},
   "outputs": [
    {
     "name": "stdout",
     "output_type": "stream",
     "text": [
      "190\n",
      "20\n",
      "70\n",
      "4\n",
      "47.5\n",
      "[ 20  60 120 190]\n",
      "[     20     800   48000 3360000]\n"
     ]
    }
   ],
   "source": [
    "#aggregate functions in numpy\n",
    "a=np.array([20,40,60,70])\n",
    "print(np.sum(a))\n",
    "print(np.min(a))\n",
    "print(np.max(a))\n",
    "print(np.size(a))\n",
    "print(np.mean(a))\n",
    "print(np.cumsum(a))\n",
    "print(np.cumprod(a))"
   ]
  },
  {
   "cell_type": "code",
   "execution_count": 32,
   "id": "a99fa03e-7d7d-4bcd-be18-b6371a4b8e87",
   "metadata": {},
   "outputs": [
    {
     "name": "stdout",
     "output_type": "stream",
     "text": [
      "[100 150 199 200 250 130] [10 50 30 40 30 10]\n",
      "\n",
      "31270\n"
     ]
    }
   ],
   "source": [
    "a=[100,150,199,200,250,130]\n",
    "b=[10,50,30,40,30,10]\n",
    "price=np.array(a)\n",
    "quantity=np.array(b)\n",
    "print(price,quantity)\n",
    "print()\n",
    "c=np.cumprod([price,quantity],axis=0)\n",
    "print(c[1].sum())"
   ]
  },
  {
   "cell_type": "code",
   "execution_count": 36,
   "id": "844cfc8d-f918-4c1a-8333-c5cc97e84d8e",
   "metadata": {},
   "outputs": [
    {
     "name": "stdout",
     "output_type": "stream",
     "text": [
      "176.0\n",
      "179.0\n",
      "200\n",
      "29.017236257093817\n",
      "842.0\n"
     ]
    }
   ],
   "source": [
    "#statistical functions\n",
    "import statistics as stats\n",
    "baked_food=[200,150,150,130,200,220,170,188]\n",
    "a=np.array(baked_food)\n",
    "print(np.mean(baked_food))\n",
    "print(np.median(baked_food))\n",
    "print(stats.mode(baked_food))\n",
    "print(np.std(baked_food))\n",
    "print(np.var(baked_food))"
   ]
  },
  {
   "cell_type": "code",
   "execution_count": 39,
   "id": "ed567633-f6ae-4b71-be31-dd0add98db27",
   "metadata": {},
   "outputs": [
    {
     "ename": "AttributeError",
     "evalue": "module 'numpy' has no attribute 'corrcoeff'",
     "output_type": "error",
     "traceback": [
      "\u001b[1;31m---------------------------------------------------------------------------\u001b[0m",
      "\u001b[1;31mAttributeError\u001b[0m                            Traceback (most recent call last)",
      "Cell \u001b[1;32mIn[39], line 7\u001b[0m\n\u001b[0;32m      5\u001b[0m tobacco_consumption\u001b[38;5;241m=\u001b[39m[\u001b[38;5;241m30\u001b[39m,\u001b[38;5;241m50\u001b[39m,\u001b[38;5;241m10\u001b[39m,\u001b[38;5;241m30\u001b[39m,\u001b[38;5;241m50\u001b[39m,\u001b[38;5;241m40\u001b[39m]\n\u001b[0;32m      6\u001b[0m deaths\u001b[38;5;241m=\u001b[39m[\u001b[38;5;241m100\u001b[39m,\u001b[38;5;241m120\u001b[39m,\u001b[38;5;241m70\u001b[39m,\u001b[38;5;241m100\u001b[39m,\u001b[38;5;241m120\u001b[39m,\u001b[38;5;241m112\u001b[39m]\n\u001b[1;32m----> 7\u001b[0m \u001b[38;5;28mprint\u001b[39m(\u001b[43mnp\u001b[49m\u001b[38;5;241;43m.\u001b[39;49m\u001b[43mcorrcoeff\u001b[49m([tobacco_consumption,deaths]))\n",
      "File \u001b[1;32m~\\AppData\\Local\\Programs\\Python\\Python312\\Lib\\site-packages\\numpy\\__init__.py:347\u001b[0m, in \u001b[0;36m__getattr__\u001b[1;34m(attr)\u001b[0m\n\u001b[0;32m    344\u001b[0m     \u001b[38;5;124m\"\u001b[39m\u001b[38;5;124mRemoved in NumPy 1.25.0\u001b[39m\u001b[38;5;124m\"\u001b[39m\n\u001b[0;32m    345\u001b[0m     \u001b[38;5;28;01mraise\u001b[39;00m \u001b[38;5;167;01mRuntimeError\u001b[39;00m(\u001b[38;5;124m\"\u001b[39m\u001b[38;5;124mTester was removed in NumPy 1.25.\u001b[39m\u001b[38;5;124m\"\u001b[39m)\n\u001b[1;32m--> 347\u001b[0m \u001b[38;5;28;01mraise\u001b[39;00m \u001b[38;5;167;01mAttributeError\u001b[39;00m(\u001b[38;5;124m\"\u001b[39m\u001b[38;5;124mmodule \u001b[39m\u001b[38;5;132;01m{!r}\u001b[39;00m\u001b[38;5;124m has no attribute \u001b[39m\u001b[38;5;124m\"\u001b[39m\n\u001b[0;32m    348\u001b[0m                      \u001b[38;5;124m\"\u001b[39m\u001b[38;5;132;01m{!r}\u001b[39;00m\u001b[38;5;124m\"\u001b[39m\u001b[38;5;241m.\u001b[39mformat(\u001b[38;5;18m__name__\u001b[39m, attr))\n",
      "\u001b[1;31mAttributeError\u001b[0m: module 'numpy' has no attribute 'corrcoeff'"
     ]
    }
   ],
   "source": [
    "#-1 represents inversely proportional relationship\n",
    "#1 reprsents proportional relationship\n",
    "#0 means no relationship\n",
    "import numpy as np\n",
    "tobacco_consumption=[30,50,10,30,50,40]\n",
    "deaths=[100,120,70,100,120,112]\n",
    "print(np.corrcoeff([tobacco_consumption,deaths]))"
   ]
  }
 ],
 "metadata": {
  "kernelspec": {
   "display_name": "Python 3 (ipykernel)",
   "language": "python",
   "name": "python3"
  },
  "language_info": {
   "codemirror_mode": {
    "name": "ipython",
    "version": 3
   },
   "file_extension": ".py",
   "mimetype": "text/x-python",
   "name": "python",
   "nbconvert_exporter": "python",
   "pygments_lexer": "ipython3",
   "version": "3.12.3"
  }
 },
 "nbformat": 4,
 "nbformat_minor": 5
}
